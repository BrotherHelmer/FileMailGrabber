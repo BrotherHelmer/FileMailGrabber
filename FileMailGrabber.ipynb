{
 "cells": [
  {
   "cell_type": "code",
   "execution_count": null,
   "metadata": {
    "collapsed": true
   },
   "outputs": [],
   "source": [
    "#Simple python script to extract mails from any text or sql file.\n",
    "\n",
    "import re\n",
    "regex = re.compile((\"([a-z0-9!#$%&'*+\\/=?^_`{|}~-]+(?:\\.[a-z0-9!#$%&'*+\\/=?^_`\"\n",
    "                    \"{|}~-]+)*(@|\\sat\\s)(?:[a-z0-9](?:[a-z0-9-]*[a-z0-9])?(\\.|\"\n",
    "                    \"\\sdot\\s))+[a-z0-9](?:[a-z0-9-]*[a-z0-9])?)\"))\n",
    "\n",
    "fname = input('Enter file name: ')\n",
    "#input your filename below if you have to do a bunch of testing\n",
    "if (len(fname) < 1): fhand = 'file.sql'\n",
    "\n",
    "#don't forget char-encoding or it will throwup\n",
    "fhand = open(fname, encoding='utf8')\n",
    "\n",
    "#time to find them e-mails\n",
    "for line in fhand:\n",
    "    for email in re.findall(regex, line.lower()):\n",
    "        if not email[0].startswith('//'):\n",
    "            print (email[0])"
   ]
  }
 ],
 "metadata": {
  "kernelspec": {
   "display_name": "Python 3",
   "language": "python",
   "name": "python3"
  },
  "language_info": {
   "codemirror_mode": {
    "name": "ipython",
    "version": 3
   },
   "file_extension": ".py",
   "mimetype": "text/x-python",
   "name": "python",
   "nbconvert_exporter": "python",
   "pygments_lexer": "ipython3",
   "version": "3.5.2"
  }
 },
 "nbformat": 4,
 "nbformat_minor": 2
}
